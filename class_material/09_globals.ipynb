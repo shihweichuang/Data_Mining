{
 "cells": [
  {
   "cell_type": "markdown",
   "id": "7c120770",
   "metadata": {},
   "source": [
    "# globalsI()"
   ]
  },
  {
   "cell_type": "code",
   "execution_count": 1,
   "id": "d53bba5e",
   "metadata": {},
   "outputs": [
    {
     "data": {
      "text/plain": [
       "{'__name__': '__main__',\n",
       " '__doc__': 'Automatically created module for IPython interactive environment',\n",
       " '__package__': None,\n",
       " '__loader__': None,\n",
       " '__spec__': None,\n",
       " '__builtin__': <module 'builtins' (built-in)>,\n",
       " '__builtins__': <module 'builtins' (built-in)>,\n",
       " '_ih': ['', 'globals()'],\n",
       " '_oh': {},\n",
       " '_dh': [WindowsPath('C:/Users/Tibame_EX14/OneDrive/程式學習/(In Class) DataMining/DataMining_practice')],\n",
       " 'In': ['', 'globals()'],\n",
       " 'Out': {},\n",
       " 'get_ipython': <bound method InteractiveShell.get_ipython of <ipykernel.zmqshell.ZMQInteractiveShell object at 0x000001F1F977DD60>>,\n",
       " 'exit': <IPython.core.autocall.ZMQExitAutocall at 0x1f1f97e27f0>,\n",
       " 'quit': <IPython.core.autocall.ZMQExitAutocall at 0x1f1f97e27f0>,\n",
       " 'open': <function io.open(file, mode='r', buffering=-1, encoding=None, errors=None, newline=None, closefd=True, opener=None)>,\n",
       " '_': '',\n",
       " '__': '',\n",
       " '___': '',\n",
       " '_i': '',\n",
       " '_ii': '',\n",
       " '_iii': '',\n",
       " '_i1': 'globals()'}"
      ]
     },
     "execution_count": 1,
     "metadata": {},
     "output_type": "execute_result"
    }
   ],
   "source": [
    "globals() # 全域已經設定好的內容"
   ]
  },
  {
   "cell_type": "code",
   "execution_count": 2,
   "id": "188b2ce9",
   "metadata": {},
   "outputs": [],
   "source": [
    "aaa = 123 # 先宣告一變數"
   ]
  },
  {
   "cell_type": "code",
   "execution_count": 3,
   "id": "03afcda5",
   "metadata": {},
   "outputs": [
    {
     "data": {
      "text/plain": [
       "{'__name__': '__main__',\n",
       " '__doc__': 'Automatically created module for IPython interactive environment',\n",
       " '__package__': None,\n",
       " '__loader__': None,\n",
       " '__spec__': None,\n",
       " '__builtin__': <module 'builtins' (built-in)>,\n",
       " '__builtins__': <module 'builtins' (built-in)>,\n",
       " '_ih': ['', 'globals()', 'aaa = 123', 'globals()'],\n",
       " '_oh': {1: {...}},\n",
       " '_dh': [WindowsPath('C:/Users/Tibame_EX14/OneDrive/程式學習/(In Class) DataMining/DataMining_practice')],\n",
       " 'In': ['', 'globals()', 'aaa = 123', 'globals()'],\n",
       " 'Out': {1: {...}},\n",
       " 'get_ipython': <bound method InteractiveShell.get_ipython of <ipykernel.zmqshell.ZMQInteractiveShell object at 0x000001F1F977DD60>>,\n",
       " 'exit': <IPython.core.autocall.ZMQExitAutocall at 0x1f1f97e27f0>,\n",
       " 'quit': <IPython.core.autocall.ZMQExitAutocall at 0x1f1f97e27f0>,\n",
       " 'open': <function io.open(file, mode='r', buffering=-1, encoding=None, errors=None, newline=None, closefd=True, opener=None)>,\n",
       " '_': {...},\n",
       " '__': '',\n",
       " '___': '',\n",
       " '_i': 'aaa = 123',\n",
       " '_ii': 'globals()',\n",
       " '_iii': '',\n",
       " '_i1': 'globals()',\n",
       " '_1': {...},\n",
       " '_i2': 'aaa = 123',\n",
       " 'aaa': 123,\n",
       " '_i3': 'globals()'}"
      ]
     },
     "execution_count": 3,
     "metadata": {},
     "output_type": "execute_result"
    }
   ],
   "source": [
    "globals()   # 上述宣告內容會新增在globals()內"
   ]
  },
  {
   "cell_type": "markdown",
   "id": "226da8e8",
   "metadata": {},
   "source": [
    "# locals()"
   ]
  },
  {
   "cell_type": "code",
   "execution_count": 5,
   "id": "7f984eb4",
   "metadata": {},
   "outputs": [
    {
     "data": {
      "text/plain": [
       "{'__name__': '__main__',\n",
       " '__doc__': 'Automatically created module for IPython interactive environment',\n",
       " '__package__': None,\n",
       " '__loader__': None,\n",
       " '__spec__': None,\n",
       " '__builtin__': <module 'builtins' (built-in)>,\n",
       " '__builtins__': <module 'builtins' (built-in)>,\n",
       " '_ih': ['',\n",
       "  'globals()',\n",
       "  'aaa = 123',\n",
       "  'globals()',\n",
       "  'locals()',\n",
       "  'locals() # 基本上和globals()一樣'],\n",
       " '_oh': {1: {...}, 3: {...}, 4: {...}},\n",
       " '_dh': [WindowsPath('C:/Users/Tibame_EX14/OneDrive/程式學習/(In Class) DataMining/DataMining_practice')],\n",
       " 'In': ['',\n",
       "  'globals()',\n",
       "  'aaa = 123',\n",
       "  'globals()',\n",
       "  'locals()',\n",
       "  'locals() # 基本上和globals()一樣'],\n",
       " 'Out': {1: {...}, 3: {...}, 4: {...}},\n",
       " 'get_ipython': <bound method InteractiveShell.get_ipython of <ipykernel.zmqshell.ZMQInteractiveShell object at 0x000001F1F977DD60>>,\n",
       " 'exit': <IPython.core.autocall.ZMQExitAutocall at 0x1f1f97e27f0>,\n",
       " 'quit': <IPython.core.autocall.ZMQExitAutocall at 0x1f1f97e27f0>,\n",
       " 'open': <function io.open(file, mode='r', buffering=-1, encoding=None, errors=None, newline=None, closefd=True, opener=None)>,\n",
       " '_': {...},\n",
       " '__': {...},\n",
       " '___': {...},\n",
       " '_i': 'locals()',\n",
       " '_ii': 'globals()',\n",
       " '_iii': 'aaa = 123',\n",
       " '_i1': 'globals()',\n",
       " '_1': {...},\n",
       " '_i2': 'aaa = 123',\n",
       " 'aaa': 123,\n",
       " '_i3': 'globals()',\n",
       " '_3': {...},\n",
       " '_i4': 'locals()',\n",
       " '_4': {...},\n",
       " '_i5': 'locals() # 基本上和globals()一樣'}"
      ]
     },
     "execution_count": 5,
     "metadata": {},
     "output_type": "execute_result"
    }
   ],
   "source": [
    "locals() # 基本上和globals()一樣"
   ]
  },
  {
   "cell_type": "code",
   "execution_count": 6,
   "id": "130dbc68",
   "metadata": {},
   "outputs": [],
   "source": [
    "def test():      # 將locals()放置定義函數內\n",
    "    ttt = 456\n",
    "    print(locals())"
   ]
  },
  {
   "cell_type": "code",
   "execution_count": 7,
   "id": "0c5a3984",
   "metadata": {},
   "outputs": [
    {
     "name": "stdout",
     "output_type": "stream",
     "text": [
      "{'ttt': 456}\n"
     ]
    }
   ],
   "source": [
    "test()       # locals()只有一個東西"
   ]
  },
  {
   "cell_type": "code",
   "execution_count": 8,
   "id": "5a01a19f",
   "metadata": {},
   "outputs": [
    {
     "data": {
      "text/plain": [
       "{'__name__': '__main__',\n",
       " '__doc__': 'Automatically created module for IPython interactive environment',\n",
       " '__package__': None,\n",
       " '__loader__': None,\n",
       " '__spec__': None,\n",
       " '__builtin__': <module 'builtins' (built-in)>,\n",
       " '__builtins__': <module 'builtins' (built-in)>,\n",
       " '_ih': ['',\n",
       "  'globals()',\n",
       "  'aaa = 123',\n",
       "  'globals()',\n",
       "  'locals()',\n",
       "  'locals() # 基本上和globals()一樣',\n",
       "  'def test():\\n    ttt = 456\\n    print(locals())',\n",
       "  'test()',\n",
       "  'locals()'],\n",
       " '_oh': {1: {...}, 3: {...}, 4: {...}, 5: {...}},\n",
       " '_dh': [WindowsPath('C:/Users/Tibame_EX14/OneDrive/程式學習/(In Class) DataMining/DataMining_practice')],\n",
       " 'In': ['',\n",
       "  'globals()',\n",
       "  'aaa = 123',\n",
       "  'globals()',\n",
       "  'locals()',\n",
       "  'locals() # 基本上和globals()一樣',\n",
       "  'def test():\\n    ttt = 456\\n    print(locals())',\n",
       "  'test()',\n",
       "  'locals()'],\n",
       " 'Out': {1: {...}, 3: {...}, 4: {...}, 5: {...}},\n",
       " 'get_ipython': <bound method InteractiveShell.get_ipython of <ipykernel.zmqshell.ZMQInteractiveShell object at 0x000001F1F977DD60>>,\n",
       " 'exit': <IPython.core.autocall.ZMQExitAutocall at 0x1f1f97e27f0>,\n",
       " 'quit': <IPython.core.autocall.ZMQExitAutocall at 0x1f1f97e27f0>,\n",
       " 'open': <function io.open(file, mode='r', buffering=-1, encoding=None, errors=None, newline=None, closefd=True, opener=None)>,\n",
       " '_': {...},\n",
       " '__': {...},\n",
       " '___': {...},\n",
       " '_i': 'test()',\n",
       " '_ii': 'def test():\\n    ttt = 456\\n    print(locals())',\n",
       " '_iii': 'locals() # 基本上和globals()一樣',\n",
       " '_i1': 'globals()',\n",
       " '_1': {...},\n",
       " '_i2': 'aaa = 123',\n",
       " 'aaa': 123,\n",
       " '_i3': 'globals()',\n",
       " '_3': {...},\n",
       " '_i4': 'locals()',\n",
       " '_4': {...},\n",
       " '_i5': 'locals() # 基本上和globals()一樣',\n",
       " '_5': {...},\n",
       " '_i6': 'def test():\\n    ttt = 456\\n    print(locals())',\n",
       " 'test': <function __main__.test()>,\n",
       " '_i7': 'test()',\n",
       " '_i8': 'locals()'}"
      ]
     },
     "execution_count": 8,
     "metadata": {},
     "output_type": "execute_result"
    }
   ],
   "source": [
    "locals()   # 不會出現ttt該變數"
   ]
  },
  {
   "cell_type": "code",
   "execution_count": null,
   "id": "2275372d",
   "metadata": {},
   "outputs": [],
   "source": []
  },
  {
   "cell_type": "code",
   "execution_count": null,
   "id": "a3845860",
   "metadata": {},
   "outputs": [],
   "source": []
  }
 ],
 "metadata": {
  "kernelspec": {
   "display_name": "Python 3 (ipykernel)",
   "language": "python",
   "name": "python3"
  },
  "language_info": {
   "codemirror_mode": {
    "name": "ipython",
    "version": 3
   },
   "file_extension": ".py",
   "mimetype": "text/x-python",
   "name": "python",
   "nbconvert_exporter": "python",
   "pygments_lexer": "ipython3",
   "version": "3.8.10"
  }
 },
 "nbformat": 4,
 "nbformat_minor": 5
}
