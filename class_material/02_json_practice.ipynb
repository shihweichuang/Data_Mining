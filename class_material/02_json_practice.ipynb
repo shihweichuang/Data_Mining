{
 "cells": [
  {
   "cell_type": "code",
   "execution_count": 5,
   "id": "35e2fe06",
   "metadata": {},
   "outputs": [],
   "source": [
    "import json"
   ]
  },
  {
   "cell_type": "code",
   "execution_count": 6,
   "id": "a35f406a",
   "metadata": {},
   "outputs": [],
   "source": [
    "test_dict = {\n",
    "    'test1': 'aaa',\n",
    "    'test2': [\n",
    "        123,\n",
    "        234,\n",
    "        345\n",
    "    ]\n",
    "}"
   ]
  },
  {
   "cell_type": "code",
   "execution_count": 7,
   "id": "d38c1c9d",
   "metadata": {},
   "outputs": [
    {
     "data": {
      "text/plain": [
       "'{\"test1\": \"aaa\", \"test2\": [123, 234, 345]}'"
      ]
     },
     "execution_count": 7,
     "metadata": {},
     "output_type": "execute_result"
    }
   ],
   "source": [
    "json.dumps(test_dict) # 轉為json字串"
   ]
  },
  {
   "cell_type": "code",
   "execution_count": 8,
   "id": "e75efc51",
   "metadata": {},
   "outputs": [],
   "source": [
    "with open('./test_dumps.json', 'w', encoding='utf-8') as f: # 儲存在當前目錄下的檔案(test_dumps.json)中\n",
    "    f.write(\n",
    "       json.dumps(test_dict)   # 把dict轉成純粹字串，都用雙引號呈現       \n",
    "    )    # 執行後即會顯示於該檔案中"
   ]
  },
  {
   "cell_type": "code",
   "execution_count": 9,
   "id": "e9c63dad",
   "metadata": {},
   "outputs": [],
   "source": [
    "f = open('./test_dump.json', 'w', encoding='utf-8') # 和上方寫法不同，效果相同\n",
    "json.dump(test_dict, f)\n",
    "f.close()"
   ]
  },
  {
   "cell_type": "code",
   "execution_count": 10,
   "id": "307f330c",
   "metadata": {},
   "outputs": [
    {
     "name": "stdout",
     "output_type": "stream",
     "text": [
      "Help on function dump in module json:\n",
      "\n",
      "dump(obj, fp, *, skipkeys=False, ensure_ascii=True, check_circular=True, allow_nan=True, cls=None, indent=None, separators=None, default=None, sort_keys=False, **kw)\n",
      "    Serialize ``obj`` as a JSON formatted stream to ``fp`` (a\n",
      "    ``.write()``-supporting file-like object).\n",
      "    \n",
      "    If ``skipkeys`` is true then ``dict`` keys that are not basic types\n",
      "    (``str``, ``int``, ``float``, ``bool``, ``None``) will be skipped\n",
      "    instead of raising a ``TypeError``.\n",
      "    \n",
      "    If ``ensure_ascii`` is false, then the strings written to ``fp`` can\n",
      "    contain non-ASCII characters if they appear in strings contained in\n",
      "    ``obj``. Otherwise, all such characters are escaped in JSON strings.\n",
      "    \n",
      "    If ``check_circular`` is false, then the circular reference check\n",
      "    for container types will be skipped and a circular reference will\n",
      "    result in an ``OverflowError`` (or worse).\n",
      "    \n",
      "    If ``allow_nan`` is false, then it will be a ``ValueError`` to\n",
      "    serialize out of range ``float`` values (``nan``, ``inf``, ``-inf``)\n",
      "    in strict compliance of the JSON specification, instead of using the\n",
      "    JavaScript equivalents (``NaN``, ``Infinity``, ``-Infinity``).\n",
      "    \n",
      "    If ``indent`` is a non-negative integer, then JSON array elements and\n",
      "    object members will be pretty-printed with that indent level. An indent\n",
      "    level of 0 will only insert newlines. ``None`` is the most compact\n",
      "    representation.\n",
      "    \n",
      "    If specified, ``separators`` should be an ``(item_separator, key_separator)``\n",
      "    tuple.  The default is ``(', ', ': ')`` if *indent* is ``None`` and\n",
      "    ``(',', ': ')`` otherwise.  To get the most compact JSON representation,\n",
      "    you should specify ``(',', ':')`` to eliminate whitespace.\n",
      "    \n",
      "    ``default(obj)`` is a function that should return a serializable version\n",
      "    of obj or raise TypeError. The default simply raises TypeError.\n",
      "    \n",
      "    If *sort_keys* is true (default: ``False``), then the output of\n",
      "    dictionaries will be sorted by key.\n",
      "    \n",
      "    To use a custom ``JSONEncoder`` subclass (e.g. one that overrides the\n",
      "    ``.default()`` method to serialize additional types), specify it with\n",
      "    the ``cls`` kwarg; otherwise ``JSONEncoder`` is used.\n",
      "\n"
     ]
    }
   ],
   "source": [
    "help(json.dump)  # 查詢如何使用該函數"
   ]
  },
  {
   "cell_type": "code",
   "execution_count": 11,
   "id": "ca8c1d7f",
   "metadata": {},
   "outputs": [],
   "source": [
    "file_name = './test_dump.json'"
   ]
  },
  {
   "cell_type": "code",
   "execution_count": 12,
   "id": "8c918d56",
   "metadata": {},
   "outputs": [
    {
     "data": {
      "text/plain": [
       "{'test1': 'aaa', 'test2': [123, 234, 345]}"
      ]
     },
     "execution_count": 12,
     "metadata": {},
     "output_type": "execute_result"
    }
   ],
   "source": [
    "with open(file_name, 'r', encoding='utf-8') as f:\n",
    "    json_data = json.loads(\n",
    "        f.read()\n",
    "    )   # 利用json讀入，改為字典\n",
    "    \n",
    "json_data"
   ]
  },
  {
   "cell_type": "code",
   "execution_count": 13,
   "id": "68a59b1a",
   "metadata": {},
   "outputs": [
    {
     "data": {
      "text/plain": [
       "{'test1': 'aaa', 'test2': [123, 234, 345]}"
      ]
     },
     "execution_count": 13,
     "metadata": {},
     "output_type": "execute_result"
    }
   ],
   "source": [
    "with open(file_name, 'r', encoding='utf-8') as f:\n",
    "    json_data = json.load(f)  # 結果同上\n",
    "\n",
    "json_data"
   ]
  },
  {
   "cell_type": "code",
   "execution_count": 14,
   "id": "6c57bf67",
   "metadata": {},
   "outputs": [
    {
     "name": "stdout",
     "output_type": "stream",
     "text": [
      "{'test1': 'aaa', 'test2': [123, 234, 345]}\n"
     ]
    }
   ],
   "source": [
    "import pprint\n",
    "# 要操作較大型json，協助調整排版(本例較小故無特別排版)\n",
    "\n",
    "pprint.pprint(json_data)"
   ]
  },
  {
   "cell_type": "code",
   "execution_count": null,
   "id": "0ce73682",
   "metadata": {},
   "outputs": [],
   "source": []
  }
 ],
 "metadata": {
  "kernelspec": {
   "display_name": "Python 3 (ipykernel)",
   "language": "python",
   "name": "python3"
  },
  "language_info": {
   "codemirror_mode": {
    "name": "ipython",
    "version": 3
   },
   "file_extension": ".py",
   "mimetype": "text/x-python",
   "name": "python",
   "nbconvert_exporter": "python",
   "pygments_lexer": "ipython3",
   "version": "3.8.10"
  }
 },
 "nbformat": 4,
 "nbformat_minor": 5
}
